{
 "cells": [
  {
   "cell_type": "markdown",
   "id": "bd2d97a4-743a-4e6b-9637-ed476840621d",
   "metadata": {},
   "source": [
    "# Mood Filtering Songs\n",
    "In order to separate songs by mood, we would need to create categories of each moods and write functions to filter the dataframe for each category. For faster runtime, we will be creating a `sqlite3` database and calling on the filters using SQL commands.  "
   ]
  },
  {
   "cell_type": "markdown",
   "id": "a64dc626-435b-4149-8883-4a7ca37eeb4c",
   "metadata": {
    "tags": []
   },
   "source": [
    "### Mood Categories\n",
    "We distinguished our moods based on Robert Thayer's [traditional model of mood](https://sites.tufts.edu/eeseniordesignhandbook/2015/music-mood-classification/), which categorizes moods based on their valence (positive to negative valence) and energy (low to high energy). \n",
    "\n",
    "Because of this, we chose to filter songs based on the `energy` and `valence` features from Spotify API's audio features. According to the Spotify API, `energy` is the perceptual measure of intensity and activity, and `valence` is the musical positiveness in a track, both measured from 0.0 to 1.0."
   ]
  },
  {
   "cell_type": "markdown",
   "id": "5ab7db24-ff61-44b2-9bf7-9d097299924b",
   "metadata": {},
   "source": [
    "## Creating SQL Database\n",
    "To create a SQL, we first have to make sure we create a dataframe of related songs from the Spotify API. "
   ]
  },
  {
   "cell_type": "code",
   "execution_count": 1,
   "id": "c9a1f839-9c78-496b-bc4f-474fe49bd095",
   "metadata": {},
   "outputs": [],
   "source": [
    "# import for spotify api\n",
    "import pandas as pd\n",
    "import spotipy\n",
    "import re\n",
    "import spotipy.oauth2 as oauth2\n",
    "from spotipy.oauth2 import SpotifyOAuth\n",
    "from spotipy.oauth2 import SpotifyClientCredentials\n",
    "import time\n",
    "\n",
    "# import for database\n",
    "import sqlite3"
   ]
  },
  {
   "cell_type": "code",
   "execution_count": 2,
   "id": "f01361a8-5e55-4f9e-b3d9-26c29ce5e327",
   "metadata": {},
   "outputs": [],
   "source": [
    "results=pd.read_csv(\"results-1.csv\") #gets results from csv file\n",
    "related_words=[\"bakery\"]+list(results[\"topic\"]) +list(results[\"related_word\"]) #adds all entries to one list\n",
    "related_words=list(set(related_words)) #makes sure there no overlap"
   ]
  },
  {
   "cell_type": "code",
   "execution_count": 3,
   "id": "354fb66c-fe4e-4d9a-b687-498e2fc21819",
   "metadata": {},
   "outputs": [],
   "source": [
    "# ids needed to access spotify api\n",
    "cid=\"45d772a85b0a4c2681a42696ad3b5ef3\"\n",
    "cis=\"9471f4a95ba34fb1a7c8414bc801542e\""
   ]
  },
  {
   "cell_type": "code",
   "execution_count": 4,
   "id": "acf405bb-0867-4605-88e4-ee49dcafe6a3",
   "metadata": {},
   "outputs": [],
   "source": [
    "sp_oauth=SpotifyClientCredentials(client_id=cid,client_secret=cis)\n",
    "\n",
    "#this line doesn't work in deepnote for some reason but it works in jupyter lab\n",
    "sp_oauth=SpotifyOAuth(client_id=cid,client_secret=cis,redirect_uri=\"http://localhost:2023/callback\",scope=[\"playlist-modify-public\",\"playlist-modify-private\"])\n",
    "\n",
    "sp = spotipy.Spotify(auth_manager=sp_oauth)"
   ]
  },
  {
   "cell_type": "code",
   "execution_count": 5,
   "id": "1dc2b095-3e46-4a5d-a97e-921030abfb9a",
   "metadata": {},
   "outputs": [],
   "source": [
    "#add rows of the columns associated with the song features\n",
    "df = pd.DataFrame(columns=[\"title\",\"artist\",\"release_date\",\"uri\",\"danceability\", \"energy\", \"valence\"]) "
   ]
  },
  {
   "cell_type": "code",
   "execution_count": 6,
   "id": "61d5a89d-16b0-48a3-b8e4-499644786e96",
   "metadata": {
    "tags": []
   },
   "outputs": [],
   "source": [
    "for word in related_words:\n",
    "    word_results=sp.search(q=f\"track:{word}\", limit=10)\n",
    "\n",
    "    for song in word_results[\"tracks\"][\"items\"]:\n",
    "\n",
    "        mod_title=\" \"+re.sub(r'[^\\w\\s]', '', song[\"name\"].lower())+\" \"\n",
    "        #checks that the actual word is in title, not just the word plus some letters\n",
    "        if f\" {word} \" in mod_title:\n",
    "            track_features = sp.audio_features(song[\"id\"])\n",
    "            try:\n",
    "                try:\n",
    "                    track_features[0]['acousticness'] # check if audio features exist\n",
    "                except:\n",
    "                    continue\n",
    "\n",
    "                row=[\n",
    "                    song[\"name\"],\n",
    "                    song[\"artists\"][0][\"name\"],\n",
    "                    song[\"album\"][\"release_date\"],\n",
    "                    song[\"uri\"],\n",
    "                    track_features[0]['danceability'],\n",
    "                    track_features[0]['energy'],\n",
    "                    track_features[0]['valence']\n",
    "                ]\n",
    "\n",
    "                # for this specific track id call that audio features thing and get those special features\n",
    "                df.loc[len(df)]=row\n",
    "            except spotipy.SpotifyException as e: # handle spotify api errors\n",
    "                if (e.http_status == 429) | (e.code == -1):  # Too many requests\n",
    "                    print(\"Error 429 - Too many requests\")\n",
    "                    print(\"Reason:\", e)\n",
    "                    print(\"Playlist cannot load at this moment. Please try again later.\")\n",
    "                    break\n",
    "                else:\n",
    "                    print(\"An error occurred:\", e)\n",
    "            except Exception as e: # handle general errors\n",
    "                print(\"An error occurred:\", e)\n",
    "                break"
   ]
  },
  {
   "cell_type": "code",
   "execution_count": 7,
   "id": "129c657e-33a9-4cd2-851d-364cc1e529eb",
   "metadata": {},
   "outputs": [
    {
     "name": "stdout",
     "output_type": "stream",
     "text": [
      "508\n"
     ]
    }
   ],
   "source": [
    "# check length of dataframe\n",
    "print(len(df))"
   ]
  },
  {
   "cell_type": "code",
   "execution_count": 8,
   "id": "6d838c44-dccd-43ae-af9c-49fedcf3204b",
   "metadata": {},
   "outputs": [
    {
     "data": {
      "text/html": [
       "<div>\n",
       "<style scoped>\n",
       "    .dataframe tbody tr th:only-of-type {\n",
       "        vertical-align: middle;\n",
       "    }\n",
       "\n",
       "    .dataframe tbody tr th {\n",
       "        vertical-align: top;\n",
       "    }\n",
       "\n",
       "    .dataframe thead th {\n",
       "        text-align: right;\n",
       "    }\n",
       "</style>\n",
       "<table border=\"1\" class=\"dataframe\">\n",
       "  <thead>\n",
       "    <tr style=\"text-align: right;\">\n",
       "      <th></th>\n",
       "      <th>title</th>\n",
       "      <th>artist</th>\n",
       "      <th>release_date</th>\n",
       "      <th>uri</th>\n",
       "      <th>danceability</th>\n",
       "      <th>energy</th>\n",
       "      <th>valence</th>\n",
       "    </tr>\n",
       "  </thead>\n",
       "  <tbody>\n",
       "    <tr>\n",
       "      <th>0</th>\n",
       "      <td>COOK UP</td>\n",
       "      <td>Cochise</td>\n",
       "      <td>2022-12-09</td>\n",
       "      <td>spotify:track:2yUAogxEgxEHBGG3zw57x9</td>\n",
       "      <td>0.881</td>\n",
       "      <td>0.609</td>\n",
       "      <td>0.603</td>\n",
       "    </tr>\n",
       "    <tr>\n",
       "      <th>1</th>\n",
       "      <td>Apple Baking</td>\n",
       "      <td>CoComelon</td>\n",
       "      <td>2023-09-01</td>\n",
       "      <td>spotify:track:4qT2N5I4ET3VG31LFcUsNr</td>\n",
       "      <td>0.760</td>\n",
       "      <td>0.421</td>\n",
       "      <td>0.972</td>\n",
       "    </tr>\n",
       "    <tr>\n",
       "      <th>2</th>\n",
       "      <td>Baking the Wondertart</td>\n",
       "      <td>Kristofer Maddigan</td>\n",
       "      <td>2022-06-30</td>\n",
       "      <td>spotify:track:0Bfa2cjv16VkogySuQMIkd</td>\n",
       "      <td>0.235</td>\n",
       "      <td>0.659</td>\n",
       "      <td>0.263</td>\n",
       "    </tr>\n",
       "    <tr>\n",
       "      <th>3</th>\n",
       "      <td>The Baking Song</td>\n",
       "      <td>Alice's Wonderland Bakery - Cast</td>\n",
       "      <td>2022-02-11</td>\n",
       "      <td>spotify:track:7DTcRS9BeM3YERBVARX8xk</td>\n",
       "      <td>0.860</td>\n",
       "      <td>0.719</td>\n",
       "      <td>0.978</td>\n",
       "    </tr>\n",
       "    <tr>\n",
       "      <th>4</th>\n",
       "      <td>What Baking Can Do</td>\n",
       "      <td>Jessie Mueller</td>\n",
       "      <td>2016-06-03</td>\n",
       "      <td>spotify:track:0h77yfaXxrLMLz31uNDigN</td>\n",
       "      <td>0.704</td>\n",
       "      <td>0.553</td>\n",
       "      <td>0.415</td>\n",
       "    </tr>\n",
       "  </tbody>\n",
       "</table>\n",
       "</div>"
      ],
      "text/plain": [
       "                   title                            artist release_date  \\\n",
       "0                COOK UP                           Cochise   2022-12-09   \n",
       "1           Apple Baking                         CoComelon   2023-09-01   \n",
       "2  Baking the Wondertart                Kristofer Maddigan   2022-06-30   \n",
       "3        The Baking Song  Alice's Wonderland Bakery - Cast   2022-02-11   \n",
       "4     What Baking Can Do                    Jessie Mueller   2016-06-03   \n",
       "\n",
       "                                    uri  danceability  energy  valence  \n",
       "0  spotify:track:2yUAogxEgxEHBGG3zw57x9         0.881   0.609    0.603  \n",
       "1  spotify:track:4qT2N5I4ET3VG31LFcUsNr         0.760   0.421    0.972  \n",
       "2  spotify:track:0Bfa2cjv16VkogySuQMIkd         0.235   0.659    0.263  \n",
       "3  spotify:track:7DTcRS9BeM3YERBVARX8xk         0.860   0.719    0.978  \n",
       "4  spotify:track:0h77yfaXxrLMLz31uNDigN         0.704   0.553    0.415  "
      ]
     },
     "execution_count": 8,
     "metadata": {},
     "output_type": "execute_result"
    }
   ],
   "source": [
    "# check database\n",
    "df.head()"
   ]
  },
  {
   "cell_type": "markdown",
   "id": "779b235c-8336-41fc-bf13-166fe1c1c2b4",
   "metadata": {},
   "source": [
    "## Creating SQL Database\n",
    "We opted to use an SQL database in for faster runtimes in case there are big dataframes generated based on related words. To create an SQL database from the dataframe, we simply used the `to_sql()` function then create the database."
   ]
  },
  {
   "cell_type": "code",
   "execution_count": 9,
   "id": "a696ed2d-c117-46df-8e06-acf6573bdbaa",
   "metadata": {},
   "outputs": [],
   "source": [
    "# create database connection\n",
    "conn = sqlite3.connect(\"related_songs.db\")"
   ]
  },
  {
   "cell_type": "code",
   "execution_count": 10,
   "id": "51b2e593-1019-44a8-8cb1-1c53de557988",
   "metadata": {},
   "outputs": [
    {
     "data": {
      "text/plain": [
       "508"
      ]
     },
     "execution_count": 10,
     "metadata": {},
     "output_type": "execute_result"
    }
   ],
   "source": [
    "# create table in database\n",
    "df.to_sql(\"songs\", conn, if_exists=\"replace\")"
   ]
  },
  {
   "cell_type": "code",
   "execution_count": 11,
   "id": "1d3684ec-3438-4538-b815-864ba3aebf16",
   "metadata": {},
   "outputs": [
    {
     "name": "stdout",
     "output_type": "stream",
     "text": [
      "[('songs',)]\n"
     ]
    }
   ],
   "source": [
    "# check work\n",
    "cursor = conn.cursor()\n",
    "cursor.execute(\"SELECT name FROM sqlite_master WHERE type='table'\")\n",
    "print(cursor.fetchall()) # to check that it is indeed in database"
   ]
  },
  {
   "cell_type": "code",
   "execution_count": 12,
   "id": "0d6aa26e-6177-4b73-920f-b30b6e017592",
   "metadata": {},
   "outputs": [],
   "source": [
    "# close connection\n",
    "conn.close()"
   ]
  },
  {
   "cell_type": "markdown",
   "id": "76d001ee-6922-4066-b89b-7fdfe20be3aa",
   "metadata": {
    "tags": []
   },
   "source": [
    "## Filter songs \n",
    "To filter songs, we will be using customs functions written in `playlist_filter.py` that filter songs based on the aformentioned parameters."
   ]
  },
  {
   "cell_type": "code",
   "execution_count": 13,
   "id": "42a7440e-d8fc-46bc-92bc-6e94e433af2a",
   "metadata": {},
   "outputs": [],
   "source": [
    "# import self-made class\n",
    "import playlist_filter as pf\n",
    "\n",
    "# SQL database\n",
    "conn = sqlite3.connect(\"related_songs.db\")"
   ]
  },
  {
   "cell_type": "code",
   "execution_count": 14,
   "id": "6e82d1f6-dec6-4422-8ec8-47373f0ef383",
   "metadata": {},
   "outputs": [
    {
     "name": "stdout",
     "output_type": "stream",
     "text": [
      "There are 181 songs in this playlist.\n"
     ]
    },
    {
     "data": {
      "text/html": [
       "<div>\n",
       "<style scoped>\n",
       "    .dataframe tbody tr th:only-of-type {\n",
       "        vertical-align: middle;\n",
       "    }\n",
       "\n",
       "    .dataframe tbody tr th {\n",
       "        vertical-align: top;\n",
       "    }\n",
       "\n",
       "    .dataframe thead th {\n",
       "        text-align: right;\n",
       "    }\n",
       "</style>\n",
       "<table border=\"1\" class=\"dataframe\">\n",
       "  <thead>\n",
       "    <tr style=\"text-align: right;\">\n",
       "      <th></th>\n",
       "      <th>title</th>\n",
       "      <th>artist</th>\n",
       "      <th>release_date</th>\n",
       "      <th>uri</th>\n",
       "      <th>danceability</th>\n",
       "      <th>energy</th>\n",
       "      <th>valence</th>\n",
       "    </tr>\n",
       "  </thead>\n",
       "  <tbody>\n",
       "    <tr>\n",
       "      <th>0</th>\n",
       "      <td>COOK UP</td>\n",
       "      <td>Cochise</td>\n",
       "      <td>2022-12-09</td>\n",
       "      <td>spotify:track:2yUAogxEgxEHBGG3zw57x9</td>\n",
       "      <td>0.881</td>\n",
       "      <td>0.609</td>\n",
       "      <td>0.603</td>\n",
       "    </tr>\n",
       "    <tr>\n",
       "      <th>1</th>\n",
       "      <td>The Baking Song</td>\n",
       "      <td>Alice's Wonderland Bakery - Cast</td>\n",
       "      <td>2022-02-11</td>\n",
       "      <td>spotify:track:7DTcRS9BeM3YERBVARX8xk</td>\n",
       "      <td>0.860</td>\n",
       "      <td>0.719</td>\n",
       "      <td>0.978</td>\n",
       "    </tr>\n",
       "    <tr>\n",
       "      <th>2</th>\n",
       "      <td>Baking Shit</td>\n",
       "      <td>Bando KD</td>\n",
       "      <td>2023-04-21</td>\n",
       "      <td>spotify:track:2fddu5OI8axXBokQmMu6oW</td>\n",
       "      <td>0.662</td>\n",
       "      <td>0.583</td>\n",
       "      <td>0.834</td>\n",
       "    </tr>\n",
       "    <tr>\n",
       "      <th>3</th>\n",
       "      <td>Baking Soda</td>\n",
       "      <td>Tone!!!</td>\n",
       "      <td>2017-01-25</td>\n",
       "      <td>spotify:track:7JcVpOIUXcbTQH0PNH7dsa</td>\n",
       "      <td>0.751</td>\n",
       "      <td>0.712</td>\n",
       "      <td>0.511</td>\n",
       "    </tr>\n",
       "    <tr>\n",
       "      <th>4</th>\n",
       "      <td>Dessert</td>\n",
       "      <td>Dawin</td>\n",
       "      <td>2015-09-25</td>\n",
       "      <td>spotify:track:0mxoXsr14ILAYcXZBMJcOs</td>\n",
       "      <td>0.866</td>\n",
       "      <td>0.731</td>\n",
       "      <td>0.765</td>\n",
       "    </tr>\n",
       "  </tbody>\n",
       "</table>\n",
       "</div>"
      ],
      "text/plain": [
       "             title                            artist release_date  \\\n",
       "0          COOK UP                           Cochise   2022-12-09   \n",
       "1  The Baking Song  Alice's Wonderland Bakery - Cast   2022-02-11   \n",
       "2      Baking Shit                          Bando KD   2023-04-21   \n",
       "3      Baking Soda                           Tone!!!   2017-01-25   \n",
       "4          Dessert                             Dawin   2015-09-25   \n",
       "\n",
       "                                    uri  danceability  energy  valence  \n",
       "0  spotify:track:2yUAogxEgxEHBGG3zw57x9         0.881   0.609    0.603  \n",
       "1  spotify:track:7DTcRS9BeM3YERBVARX8xk         0.860   0.719    0.978  \n",
       "2  spotify:track:2fddu5OI8axXBokQmMu6oW         0.662   0.583    0.834  \n",
       "3  spotify:track:7JcVpOIUXcbTQH0PNH7dsa         0.751   0.712    0.511  \n",
       "4  spotify:track:0mxoXsr14ILAYcXZBMJcOs         0.866   0.731    0.765  "
      ]
     },
     "execution_count": 14,
     "metadata": {},
     "output_type": "execute_result"
    }
   ],
   "source": [
    "hype = pf.query_find_hype(df, conn)\n",
    "print(\"There are \" + str(len(hype)) + \" songs in this playlist.\")\n",
    "hype.head()"
   ]
  },
  {
   "cell_type": "code",
   "execution_count": 15,
   "id": "b8354ec0-bf23-4bd5-908f-341682943a42",
   "metadata": {},
   "outputs": [
    {
     "name": "stdout",
     "output_type": "stream",
     "text": [
      "There are 113 songs in this playlist.\n"
     ]
    },
    {
     "data": {
      "text/html": [
       "<div>\n",
       "<style scoped>\n",
       "    .dataframe tbody tr th:only-of-type {\n",
       "        vertical-align: middle;\n",
       "    }\n",
       "\n",
       "    .dataframe tbody tr th {\n",
       "        vertical-align: top;\n",
       "    }\n",
       "\n",
       "    .dataframe thead th {\n",
       "        text-align: right;\n",
       "    }\n",
       "</style>\n",
       "<table border=\"1\" class=\"dataframe\">\n",
       "  <thead>\n",
       "    <tr style=\"text-align: right;\">\n",
       "      <th></th>\n",
       "      <th>title</th>\n",
       "      <th>artist</th>\n",
       "      <th>release_date</th>\n",
       "      <th>uri</th>\n",
       "      <th>danceability</th>\n",
       "      <th>energy</th>\n",
       "      <th>valence</th>\n",
       "    </tr>\n",
       "  </thead>\n",
       "  <tbody>\n",
       "    <tr>\n",
       "      <th>0</th>\n",
       "      <td>Baking the Wondertart</td>\n",
       "      <td>Kristofer Maddigan</td>\n",
       "      <td>2022-06-30</td>\n",
       "      <td>spotify:track:0Bfa2cjv16VkogySuQMIkd</td>\n",
       "      <td>0.235</td>\n",
       "      <td>0.659</td>\n",
       "      <td>0.263</td>\n",
       "    </tr>\n",
       "    <tr>\n",
       "      <th>1</th>\n",
       "      <td>What Baking Can Do</td>\n",
       "      <td>Jessie Mueller</td>\n",
       "      <td>2016-06-03</td>\n",
       "      <td>spotify:track:0h77yfaXxrLMLz31uNDigN</td>\n",
       "      <td>0.704</td>\n",
       "      <td>0.553</td>\n",
       "      <td>0.415</td>\n",
       "    </tr>\n",
       "    <tr>\n",
       "      <th>2</th>\n",
       "      <td>Dessert</td>\n",
       "      <td>Jim Gaffigan</td>\n",
       "      <td>2006-02-07</td>\n",
       "      <td>spotify:track:5QYArESi992DAsi97TQtZh</td>\n",
       "      <td>0.591</td>\n",
       "      <td>0.625</td>\n",
       "      <td>0.289</td>\n",
       "    </tr>\n",
       "    <tr>\n",
       "      <th>3</th>\n",
       "      <td>Bistro</td>\n",
       "      <td>Teide Garcia</td>\n",
       "      <td>2023-03-10</td>\n",
       "      <td>spotify:track:75BKUJhsdVhntSUFH3SJIA</td>\n",
       "      <td>0.642</td>\n",
       "      <td>0.516</td>\n",
       "      <td>0.109</td>\n",
       "    </tr>\n",
       "    <tr>\n",
       "      <th>4</th>\n",
       "      <td>Warehouse</td>\n",
       "      <td>Oliver Smith</td>\n",
       "      <td>2020-01-08</td>\n",
       "      <td>spotify:track:2wER3gVMMIWPusxOjoWlcQ</td>\n",
       "      <td>0.554</td>\n",
       "      <td>0.800</td>\n",
       "      <td>0.244</td>\n",
       "    </tr>\n",
       "  </tbody>\n",
       "</table>\n",
       "</div>"
      ],
      "text/plain": [
       "                   title              artist release_date  \\\n",
       "0  Baking the Wondertart  Kristofer Maddigan   2022-06-30   \n",
       "1     What Baking Can Do      Jessie Mueller   2016-06-03   \n",
       "2                Dessert        Jim Gaffigan   2006-02-07   \n",
       "3                 Bistro        Teide Garcia   2023-03-10   \n",
       "4              Warehouse        Oliver Smith   2020-01-08   \n",
       "\n",
       "                                    uri  danceability  energy  valence  \n",
       "0  spotify:track:0Bfa2cjv16VkogySuQMIkd         0.235   0.659    0.263  \n",
       "1  spotify:track:0h77yfaXxrLMLz31uNDigN         0.704   0.553    0.415  \n",
       "2  spotify:track:5QYArESi992DAsi97TQtZh         0.591   0.625    0.289  \n",
       "3  spotify:track:75BKUJhsdVhntSUFH3SJIA         0.642   0.516    0.109  \n",
       "4  spotify:track:2wER3gVMMIWPusxOjoWlcQ         0.554   0.800    0.244  "
      ]
     },
     "execution_count": 15,
     "metadata": {},
     "output_type": "execute_result"
    }
   ],
   "source": [
    "agitated = pf.query_find_agitated(df, conn)\n",
    "print(\"There are \" + str(len(agitated)) + \" songs in this playlist.\")\n",
    "agitated.head()"
   ]
  },
  {
   "cell_type": "code",
   "execution_count": 16,
   "id": "e4f5bf67-a628-427d-bd4f-f9859048b7e8",
   "metadata": {},
   "outputs": [
    {
     "name": "stdout",
     "output_type": "stream",
     "text": [
      "There are 128 song in this playlist.\n"
     ]
    },
    {
     "data": {
      "text/html": [
       "<div>\n",
       "<style scoped>\n",
       "    .dataframe tbody tr th:only-of-type {\n",
       "        vertical-align: middle;\n",
       "    }\n",
       "\n",
       "    .dataframe tbody tr th {\n",
       "        vertical-align: top;\n",
       "    }\n",
       "\n",
       "    .dataframe thead th {\n",
       "        text-align: right;\n",
       "    }\n",
       "</style>\n",
       "<table border=\"1\" class=\"dataframe\">\n",
       "  <thead>\n",
       "    <tr style=\"text-align: right;\">\n",
       "      <th></th>\n",
       "      <th>title</th>\n",
       "      <th>artist</th>\n",
       "      <th>release_date</th>\n",
       "      <th>uri</th>\n",
       "      <th>danceability</th>\n",
       "      <th>energy</th>\n",
       "      <th>valence</th>\n",
       "    </tr>\n",
       "  </thead>\n",
       "  <tbody>\n",
       "    <tr>\n",
       "      <th>0</th>\n",
       "      <td>Get Baking</td>\n",
       "      <td>Tom Howe</td>\n",
       "      <td>2012-11-01</td>\n",
       "      <td>spotify:track:5igN5TAubJCQhpcqdHEhIJ</td>\n",
       "      <td>0.856</td>\n",
       "      <td>0.260</td>\n",
       "      <td>0.381</td>\n",
       "    </tr>\n",
       "    <tr>\n",
       "      <th>1</th>\n",
       "      <td>Baking Goodies in the Mad World</td>\n",
       "      <td>Brett Jamez</td>\n",
       "      <td>2023-11-15</td>\n",
       "      <td>spotify:track:71HZCPygm9vsYzMfY1agfK</td>\n",
       "      <td>0.708</td>\n",
       "      <td>0.479</td>\n",
       "      <td>0.225</td>\n",
       "    </tr>\n",
       "    <tr>\n",
       "      <th>2</th>\n",
       "      <td>Baking in the Summer</td>\n",
       "      <td>Penny and Sparrow</td>\n",
       "      <td>2022-01-21</td>\n",
       "      <td>spotify:track:0h7jJumeYrVTxO46xKudpk</td>\n",
       "      <td>0.268</td>\n",
       "      <td>0.290</td>\n",
       "      <td>0.214</td>\n",
       "    </tr>\n",
       "    <tr>\n",
       "      <th>3</th>\n",
       "      <td>What's For Dessert?</td>\n",
       "      <td>Nitta' Gritta'</td>\n",
       "      <td>2022-05-27</td>\n",
       "      <td>spotify:track:3yGIwZB68iW9gjK0ggNG7S</td>\n",
       "      <td>0.623</td>\n",
       "      <td>0.319</td>\n",
       "      <td>0.274</td>\n",
       "    </tr>\n",
       "    <tr>\n",
       "      <th>4</th>\n",
       "      <td>Bistro</td>\n",
       "      <td>Lofi Fruits Music</td>\n",
       "      <td>2022-07-29</td>\n",
       "      <td>spotify:track:4cebuB8wGgXL62fnXYCyoz</td>\n",
       "      <td>0.667</td>\n",
       "      <td>0.184</td>\n",
       "      <td>0.116</td>\n",
       "    </tr>\n",
       "  </tbody>\n",
       "</table>\n",
       "</div>"
      ],
      "text/plain": [
       "                             title             artist release_date  \\\n",
       "0                       Get Baking           Tom Howe   2012-11-01   \n",
       "1  Baking Goodies in the Mad World        Brett Jamez   2023-11-15   \n",
       "2             Baking in the Summer  Penny and Sparrow   2022-01-21   \n",
       "3              What's For Dessert?     Nitta' Gritta'   2022-05-27   \n",
       "4                           Bistro  Lofi Fruits Music   2022-07-29   \n",
       "\n",
       "                                    uri  danceability  energy  valence  \n",
       "0  spotify:track:5igN5TAubJCQhpcqdHEhIJ         0.856   0.260    0.381  \n",
       "1  spotify:track:71HZCPygm9vsYzMfY1agfK         0.708   0.479    0.225  \n",
       "2  spotify:track:0h7jJumeYrVTxO46xKudpk         0.268   0.290    0.214  \n",
       "3  spotify:track:3yGIwZB68iW9gjK0ggNG7S         0.623   0.319    0.274  \n",
       "4  spotify:track:4cebuB8wGgXL62fnXYCyoz         0.667   0.184    0.116  "
      ]
     },
     "execution_count": 16,
     "metadata": {},
     "output_type": "execute_result"
    }
   ],
   "source": [
    "sorrowful = pf.query_find_sorrowful(df, conn)\n",
    "print(\"There are \" + str(len(sorrowful)) + \" song in this playlist.\")\n",
    "sorrowful.head()"
   ]
  },
  {
   "cell_type": "code",
   "execution_count": 17,
   "id": "e287410d-c5f6-45fe-9734-b7f30b7934c6",
   "metadata": {},
   "outputs": [
    {
     "name": "stdout",
     "output_type": "stream",
     "text": [
      "There are 86 song in this playlist.\n"
     ]
    },
    {
     "data": {
      "text/html": [
       "<div>\n",
       "<style scoped>\n",
       "    .dataframe tbody tr th:only-of-type {\n",
       "        vertical-align: middle;\n",
       "    }\n",
       "\n",
       "    .dataframe tbody tr th {\n",
       "        vertical-align: top;\n",
       "    }\n",
       "\n",
       "    .dataframe thead th {\n",
       "        text-align: right;\n",
       "    }\n",
       "</style>\n",
       "<table border=\"1\" class=\"dataframe\">\n",
       "  <thead>\n",
       "    <tr style=\"text-align: right;\">\n",
       "      <th></th>\n",
       "      <th>title</th>\n",
       "      <th>artist</th>\n",
       "      <th>release_date</th>\n",
       "      <th>uri</th>\n",
       "      <th>danceability</th>\n",
       "      <th>energy</th>\n",
       "      <th>valence</th>\n",
       "    </tr>\n",
       "  </thead>\n",
       "  <tbody>\n",
       "    <tr>\n",
       "      <th>0</th>\n",
       "      <td>Apple Baking</td>\n",
       "      <td>CoComelon</td>\n",
       "      <td>2023-09-01</td>\n",
       "      <td>spotify:track:4qT2N5I4ET3VG31LFcUsNr</td>\n",
       "      <td>0.760</td>\n",
       "      <td>0.421</td>\n",
       "      <td>0.972</td>\n",
       "    </tr>\n",
       "    <tr>\n",
       "      <th>1</th>\n",
       "      <td>Baking Soda</td>\n",
       "      <td>MAVI</td>\n",
       "      <td>2022-10-14</td>\n",
       "      <td>spotify:track:5cNx7JPZrX6bBUnrn1EmIr</td>\n",
       "      <td>0.786</td>\n",
       "      <td>0.499</td>\n",
       "      <td>0.690</td>\n",
       "    </tr>\n",
       "    <tr>\n",
       "      <th>2</th>\n",
       "      <td>Room For Dessert?</td>\n",
       "      <td>Lunchtime Jazz</td>\n",
       "      <td>2022-10-09</td>\n",
       "      <td>spotify:track:3H9G8UFwVWjYlac1zCgMzT</td>\n",
       "      <td>0.711</td>\n",
       "      <td>0.297</td>\n",
       "      <td>0.684</td>\n",
       "    </tr>\n",
       "    <tr>\n",
       "      <th>3</th>\n",
       "      <td>Bistro Fada</td>\n",
       "      <td>Stephane Wrembel</td>\n",
       "      <td>2011-05-13</td>\n",
       "      <td>spotify:track:08T5wMbEnPN8ghT8o24KY6</td>\n",
       "      <td>0.761</td>\n",
       "      <td>0.371</td>\n",
       "      <td>0.864</td>\n",
       "    </tr>\n",
       "    <tr>\n",
       "      <th>4</th>\n",
       "      <td>Bistro Fada</td>\n",
       "      <td>Stephane Wrembel</td>\n",
       "      <td>2011-12-09</td>\n",
       "      <td>spotify:track:1PnOzUB8CP0SVwVmMkqY3k</td>\n",
       "      <td>0.578</td>\n",
       "      <td>0.322</td>\n",
       "      <td>0.826</td>\n",
       "    </tr>\n",
       "  </tbody>\n",
       "</table>\n",
       "</div>"
      ],
      "text/plain": [
       "               title            artist release_date  \\\n",
       "0       Apple Baking         CoComelon   2023-09-01   \n",
       "1        Baking Soda              MAVI   2022-10-14   \n",
       "2  Room For Dessert?    Lunchtime Jazz   2022-10-09   \n",
       "3        Bistro Fada  Stephane Wrembel   2011-05-13   \n",
       "4        Bistro Fada  Stephane Wrembel   2011-12-09   \n",
       "\n",
       "                                    uri  danceability  energy  valence  \n",
       "0  spotify:track:4qT2N5I4ET3VG31LFcUsNr         0.760   0.421    0.972  \n",
       "1  spotify:track:5cNx7JPZrX6bBUnrn1EmIr         0.786   0.499    0.690  \n",
       "2  spotify:track:3H9G8UFwVWjYlac1zCgMzT         0.711   0.297    0.684  \n",
       "3  spotify:track:08T5wMbEnPN8ghT8o24KY6         0.761   0.371    0.864  \n",
       "4  spotify:track:1PnOzUB8CP0SVwVmMkqY3k         0.578   0.322    0.826  "
      ]
     },
     "execution_count": 17,
     "metadata": {},
     "output_type": "execute_result"
    }
   ],
   "source": [
    "chill = pf.query_find_chill(df, conn)\n",
    "print(\"There are \" + str(len(chill)) + \" song in this playlist.\")\n",
    "chill.head()"
   ]
  },
  {
   "cell_type": "code",
   "execution_count": 18,
   "id": "f802d640-72fe-415b-aa25-4718900964b4",
   "metadata": {
    "tags": []
   },
   "outputs": [],
   "source": [
    "# close connection\n",
    "conn.close()"
   ]
  }
 ],
 "metadata": {
  "kernelspec": {
   "display_name": "Python [conda env:PIC16B] *",
   "language": "python",
   "name": "conda-env-PIC16B-py"
  },
  "language_info": {
   "codemirror_mode": {
    "name": "ipython",
    "version": 3
   },
   "file_extension": ".py",
   "mimetype": "text/x-python",
   "name": "python",
   "nbconvert_exporter": "python",
   "pygments_lexer": "ipython3",
   "version": "3.11.5"
  }
 },
 "nbformat": 4,
 "nbformat_minor": 5
}
