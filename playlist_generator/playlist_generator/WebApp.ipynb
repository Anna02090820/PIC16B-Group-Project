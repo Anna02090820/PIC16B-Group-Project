from flask import Flask, request, redirect, render_template_string

app = Flask(__name__)

# Assuming your playlist generator function looks something like this
def generate_playlist(keyword):
    # Your existing code to generate playlist on Spotify
    # Let's assume it returns the URL of the playlist
    return "https://open.spotify.com/playlist/your_playlist_id"

@app.route('/', methods=['GET', 'POST'])
def index():
    if request.method == 'POST':
        keyword = request.form['keyword']
        playlist_url = generate_playlist(keyword)
        return redirect(playlist_url)
    return render_template_string('''
        <html>
            <body>
                <form method="post">
                    Enter a keyword: <input type="text" name="keyword"/>
                    <input type="submit" value="Generate Playlist"/>
                </form>
            </body>
        </html>
    ''')

if __name__ == '__main__':
    app.run(debug=True)
